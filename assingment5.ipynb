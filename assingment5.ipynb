{
  "metadata": {
    "kernelspec": {
      "name": "python",
      "display_name": "Python (Pyodide)",
      "language": "python"
    },
    "language_info": {
      "codemirror_mode": {
        "name": "python",
        "version": 3
      },
      "file_extension": ".py",
      "mimetype": "text/x-python",
      "name": "python",
      "nbconvert_exporter": "python",
      "pygments_lexer": "ipython3",
      "version": "3.8"
    }
  },
  "nbformat_minor": 5,
  "nbformat": 4,
  "cells": [
    {
      "id": "791243f4-e5a1-4b87-adfd-b774eda6a8d4",
      "cell_type": "markdown",
      "source": "Files, exceptional handling, logging and\nmemory management Questions",
      "metadata": {}
    },
    {
      "id": "b806018f-80c4-44b5-9be7-5ba516181760",
      "cell_type": "code",
      "source": "1.# What is the difference between interpreted and compiled languages?\n# The primary difference between compiled and interpreted languages lies in how their source code is executed:\n# compiled languages are translated into machine code before execution, while interpreted languages are executed line-by-line by an interpreter without a separate compilation step to machine code\n",
      "metadata": {
        "trusted": true
      },
      "outputs": [],
      "execution_count": null
    },
    {
      "id": "64ef6b8e-e88b-4686-982f-10a31bcee160",
      "cell_type": "code",
      "source": "2. #What is exception handling in Python?\n    # Exception handling in Python is a mechanism used to manage runtime errors, known as exceptions,\n    # that occur during the execution of a program. When an exception is raised, it disrupts the normal flow of the program. \n    # Exception handling allows the program to gracefully respond to these errors instead of crashing.",
      "metadata": {
        "trusted": true
      },
      "outputs": [],
      "execution_count": null
    },
    {
      "id": "350899dd-6b9a-4ce9-b7b1-ca40d5e96455",
      "cell_type": "code",
      "source": "3. #What is the purpose of the finally block in exception handling?",
      "metadata": {
        "trusted": true
      },
      "outputs": [],
      "execution_count": null
    },
    {
      "id": "8fe930f4-3213-475e-8a64-51dc25dc29f2",
      "cell_type": "code",
      "source": "4.#What is logging in Python?\n    # Logging in Python is the process of systematically recording events that occur during the execution of a program.\n    # This is achieved using the built-in logging module, which is part of Python's standard library. The primary purpose of logging is to provide insights into the program's behavior, \n    # aid in debugging, and monitor its performance and usage. ",
      "metadata": {
        "trusted": true
      },
      "outputs": [],
      "execution_count": null
    },
    {
      "id": "c7440d03-7362-4f25-8ab0-7b87982e5cba",
      "cell_type": "code",
      "source": "5. #What is the significance of the __del__ method in Python?\n# The __del__ method in Python, also known as the destructor,\n# holds significance in object-oriented programming for performing cleanup actions when an object is about to be garbage collected.",
      "metadata": {
        "trusted": true
      },
      "outputs": [],
      "execution_count": null
    },
    {
      "id": "859b29c1-43ac-4e8b-b3cb-8cd94a31a566",
      "cell_type": "code",
      "source": "6.# What is the difference between import and from ... import in Python?\n# In Python, both import and from ... import statements are used to bring modules or specific components from modules into the current namespace, but they differ in how they achieve this:\n# import module_name: This statement imports the entire module. When you use this, the module's contents are accessible via the module's namespace, meaning you must prefix any functions, classes, or variables from that module with module_name..\n# from module_name import object_name: This statement imports specific objects (functions, classes, or variables) directly into the current namespace. This means you can use the imported objects directly without needing to prefix them with the module name",
      "metadata": {
        "trusted": true
      },
      "outputs": [],
      "execution_count": null
    },
    {
      "id": "08233b0c-f6d9-4ef5-be6a-48560fafd0fd",
      "cell_type": "code",
      "source": "7.# How can you handle multiple exceptions in Python?\n   #  In Python, multiple exceptions can be handled within a try-except block using several methods: multiple except clauses.\n   # Different types of exceptions can be handled with separate except clauses following a single try block. This allows for specific handling logic for each exception type.",
      "metadata": {
        "trusted": true
      },
      "outputs": [],
      "execution_count": null
    },
    {
      "id": "840d2cd3-3afa-40c5-a237-971ea7b31ee9",
      "cell_type": "code",
      "source": "8.# What is the purpose of the with statement when handling files in Python?\n#     The with statement in Python, when used with file handling, serves the primary purpose of ensuring proper resource management and simplifying code related to opening and closing files.\n# Specifically, its key benefits are:\n#     Automatic Resource Cleanup:\n#     Simplified Code and Readability:",
      "metadata": {
        "trusted": true
      },
      "outputs": [],
      "execution_count": null
    },
    {
      "id": "f9d67424-897f-462c-a0ab-976cc4d49f8a",
      "cell_type": "code",
      "source": "9. #What is the difference between multithreading and multiprocessing?\n   #  Multithreading and multiprocessing are both techniques to achieve parallelism, but they differ in how they utilize system resources. Multithreading involves multiple threads within a single process, sharing the same memory space, \n   # while multiprocessing involves multiple processes, each with its own memory space. ",
      "metadata": {
        "trusted": true
      },
      "outputs": [],
      "execution_count": null
    },
    {
      "id": "6a95855e-03ce-45ed-a54a-f0831427189c",
      "cell_type": "code",
      "source": "10.#What are the advantages of using logging in a program?\n   #  Logging provides significant advantages in software development and maintenance, making it an essential practice. These benefits include debugging, understanding application behavior, tracking events,\n   # and providing insights for performance optimization, security analysis, and compliance. ",
      "metadata": {
        "trusted": true
      },
      "outputs": [],
      "execution_count": null
    },
    {
      "id": "1b79f1c0-74bf-41e3-a194-1121d2e726d5",
      "cell_type": "code",
      "source": "11.# What is memory management in Python?\n    # Memory management in Python refers to the system that handles the allocation and deallocation of memory resources for Python objects and programs.\n    # Unlike some other programming languages where memory management is largely manual, Python employs an automatic system, simplifying development for programmers.",
      "metadata": {
        "trusted": true
      },
      "outputs": [],
      "execution_count": null
    },
    {
      "id": "983f9fd8-7fc8-4651-bb08-9e2e5421e556",
      "cell_type": "code",
      "source": "12. #What are the basic steps involved in exception handling in Python?\n#     In Python, exception handling is a way to gracefully manage errors that may occur during program execution. The basic steps involved in exception handling are:\n# 1. Use try Block\n# Enclose the code that might raise an exception in a try block.\n# This is where Python will attempt to execute the code.\n# 2. Use except Block\n# Catch and handle specific exceptions that occur in the try block.\n# You can specify the type of exception to catch (like ZeroDivisionError).",
      "metadata": {
        "trusted": true
      },
      "outputs": [],
      "execution_count": null
    },
    {
      "id": "47bc8713-ed2e-4635-8fd1-a9e35a91dc7f",
      "cell_type": "code",
      "source": "13.# Why is memory management important in Python?\n# 1. Prevents Memory Leaks\n# If memory isn't managed properly, unused objects can accumulate in memory.\n# This leads to memory leaks, which cause programs to consume more memory over time, potentially crashing or slowing down the system.\n# 2. Ensures Efficient Resource Use\n# Python applications may handle large data sets or run for long periods (e.g., web servers).\n# Good memory management ensures that memory is allocated and deallocated efficiently, improving performance and scalability.\n# 3. Supports Automatic Garbage Collection\n# Python uses automatic garbage collection (via the gc module and reference counting).\n# Memory management ensures that:\n# Objects no longer in use are cleaned up.\n# Cycles in references (which basic reference counting can't handle) are detected and broken.\n# 4. Improves Program Stabi",
      "metadata": {
        "trusted": true
      },
      "outputs": [],
      "execution_count": null
    },
    {
      "id": "47b9b8aa-1678-4b7f-ba71-5b0dc5a1ba68",
      "cell_type": "code",
      "source": "14.#What is the role of try and except in exception handling?\n    # Python Exceptions (Try...Except) - Learn By ExampleIn exception handling, the try and except statements work together to manage errors gracefully. The try block contains code that might raise an exception, while the except block specifies how to handle that exception if it occurs, \n    # preventing the program from crashing and allowing it to continue running with an alternative course of action. ",
      "metadata": {
        "trusted": true
      },
      "outputs": [],
      "execution_count": null
    },
    {
      "id": "9e047fbd-d1c6-449d-a3d2-c40088a8bad4",
      "cell_type": "code",
      "source": "15.#How does Python's garbage collection system work?\n    # Python's garbage collection system primarily uses reference counting as its main mechanism.\n    # It also employs generational garbage collection to handle reference cycles, which are situations where objects refer to each other, preventing their reference counts from reaching zero. \n",
      "metadata": {
        "trusted": true
      },
      "outputs": [],
      "execution_count": null
    },
    {
      "id": "ee3d36d2-a5a4-44e6-a427-1976fa89ce9c",
      "cell_type": "code",
      "source": "16.#What is the purpose of the else block in exception handling?\n   # Python: \"try-except-else\" Usage Explained!The else block in exception handling, specifically within a try-except structure, is designed to execute code only when no exceptions are raised within the try block.\n   # It provides a way to run specific code if the try block executes successfully, without encountering any errors. ",
      "metadata": {
        "trusted": true
      },
      "outputs": [],
      "execution_count": null
    },
    {
      "id": "9d25e31e-98d0-48c1-9222-3ec539f06885",
      "cell_type": "code",
      "source": "17.# What are the common logging levels in Python?\n    # Python's logging module defines several standard logging levels, each representing a different severity of an event.\n    # These levels, in increasing order of severity, are:\n# NOTSET (0):\n# DEBUG (10):\n# INFO (20):\n# WARNING (30):\n# ERROR (40):\n# CRITICAL (50):",
      "metadata": {
        "trusted": true
      },
      "outputs": [],
      "execution_count": null
    },
    {
      "id": "e588f14d-9ad1-42c8-b2bc-1185daa0c090",
      "cell_type": "code",
      "source": "18.#What is the difference between os.fork() and multiprocessing in Python?\n#     The key differences between os.fork() and Python's multiprocessing module for creating new processes are as follows:\n# Level of Abstraction and Portability:\n# os.fork() is a lower-level, POSIX-specific system call that directly duplicates the current process. It is not available on Windows.\n# multiprocessing is a higher-level, cross-platform module that provides a more convenient and robust API for managing processes. It handles the underlying process creation mechanisms (including fork on Unix-like systems and spawn on Windows) and provides tools for inter-process communication.",
      "metadata": {
        "trusted": true
      },
      "outputs": [],
      "execution_count": null
    },
    {
      "id": "d09d4fb3-1db2-415a-999c-eb47ce15aeff",
      "cell_type": "code",
      "source": "19.# What is the importance of closing a file in Python?\n#      1. Frees System Resources\n# Open files consume system resources (memory, file handles).\n# If too many files remain open, you can hit system limits, causing failures.\n# 🔹 2. Flushes Data to Disk\n# When writing to a file, data is often buffered (stored temporarily in memory).\n# file.close() ensures all buffered data is actually written to disk.\n# 🔹 3. Avoids Data Corruption\n# If a file isn’t properly closed, especially during write operations, it may lead to incomplete or corrupted files.\n# 🔹 4. Allows Safe Reuse\n# Some operating systems or programs may lock a file while it's open.\n# Closing it ensures it's available for other parts of your program or external applications.\n\n",
      "metadata": {
        "trusted": true
      },
      "outputs": [],
      "execution_count": null
    },
    {
      "id": "d11b1514-016a-4b44-9908-f9b0f7b83aa1",
      "cell_type": "code",
      "source": "20.# What is the difference between file.read() and file.readline() in Python?\n#     In Python, file.read() and file.readline() are methods used to read content from a file, but they differ in the amount of data they retrieve:\n# file.read(size):\n# Reads the entire content of the file and returns it as a single string if no size argument is provided.\n# If a size argument (an integer) is given, it reads at most that many bytes (or characters in text mode) from the file and returns them as a string.\n# file.readline(size):\n# Reads a single line from the file until a newline character (\\n) is encountered or the end of the file is reached.\n# Returns the line as a string, including the newline character if present. ",
      "metadata": {
        "trusted": true
      },
      "outputs": [],
      "execution_count": null
    },
    {
      "id": "b69e9108-2a66-41b4-8668-55c091c85811",
      "cell_type": "code",
      "source": "21.# What is the logging module in Python used for?\n    # The logging module in Python is used to track events and record information about a program's execution. \n    # It allows developers to monitor application behavior, debug issues, and gain insights into how their code is running. Logging is crucial for identifying errors, understanding the flow of execution, and troubleshooting problems in complex applications. ",
      "metadata": {
        "trusted": true
      },
      "outputs": [],
      "execution_count": null
    },
    {
      "id": "9a60c7e1-9de2-4bb8-8e83-1be47032c6af",
      "cell_type": "code",
      "source": "22.# What is the os module in Python used for in file handling?\n    # Python has a built-in os module with methods for interacting with the operating system, like creating files and directories, \n    # management of files and directories, input, output, environment variables, process management, etc.",
      "metadata": {
        "trusted": true
      },
      "outputs": [],
      "execution_count": null
    },
    {
      "id": "3da67683-6328-4c11-a64b-611b492bd103",
      "cell_type": "code",
      "source": "23.# What are the challenges associated with memory management in Python?\n#     Memory management in Python, while largely automated, presents several challenges:\n# Memory Leaks:\n# Performance Overhead of Automatic Management:\n# Memory Fragmentation:\n# Lack of Fine-Grained Control:\n# Debugging Memory Issues:\n# Large Data Handling:\n",
      "metadata": {
        "trusted": true
      },
      "outputs": [],
      "execution_count": null
    },
    {
      "id": "6f8b560e-86df-4c78-85ed-dbed016bc17c",
      "cell_type": "code",
      "source": "24.# How do you raise an exception manually in Python?\n#     You can raise an exception manually in Python using the raise keyword. This is useful when you want to flag an error condition explicitly in your code.\n# 🔹 Basic Syntax\n# raise ExceptionType(\"Optional error message\")\n# ExceptionType is usually a built-in exception like ValueError, TypeError, or RuntimeError.\n# The string message helps describe the error for debugging or user feedback.\n\n",
      "metadata": {
        "trusted": true,
        "jupyter": {
          "source_hidden": true
        }
      },
      "outputs": [],
      "execution_count": null
    },
    {
      "id": "a076b6c1-b6aa-47c3-8132-3583e0d87fb0",
      "cell_type": "code",
      "source": "25.# Why is it important to use multithreading in certain applications?\n   #  Multithreading is crucial in certain applications to improve performance, enhance responsiveness, and optimize resource utilization by allowing multiple tasks to execute concurrently, \n   # especially in scenarios involving intensive computations, network operations, or user interactions. ",
      "metadata": {
        "trusted": true
      },
      "outputs": [],
      "execution_count": null
    },
    {
      "id": "d035f97d-9815-4729-aac4-216f8eb66e9d",
      "cell_type": "markdown",
      "source": "Practical Questions",
      "metadata": {}
    },
    {
      "id": "85e1ffc2-822d-409d-a2d9-f0aeb216d095",
      "cell_type": "code",
      "source": "1.# How can you open a file for writing in Python and write a string to it?\n# Open a file in write mode\nwith open('example.txt', 'w') as file:\n    # Write a string to the file\n    file.write('Hello, world!')",
      "metadata": {
        "trusted": true
      },
      "outputs": [],
      "execution_count": 13
    },
    {
      "id": "88bd9b90-5521-480c-a8fd-ec5ce1ea9f1d",
      "cell_type": "code",
      "source": "2.#Write a Python program to read the contents of a file and print each line?\n    # Open the file in read mode\nwith open('example.txt', 'r') as file:\n    # Iterate through each line in the file\n    for line in file:\n        # Print the line (removing trailing newline character)\n        print(line.strip())",
      "metadata": {
        "trusted": true
      },
      "outputs": [
        {
          "name": "stdout",
          "output_type": "stream",
          "text": "Hello, world!\n"
        }
      ],
      "execution_count": 15
    },
    {
      "id": "505ceb69-b002-480a-8d3c-61fa404e299f",
      "cell_type": "code",
      "source": " 3.#How would you handle a case where the file doesn't exist while trying to open it for reading?\n     try:\n    with open('example.txt', 'r') as file:\n        for line in file:\n            print(line.strip())\nexcept FileNotFoundError:\n    print(\"The file does not exist.\")",
      "metadata": {
        "trusted": true
      },
      "outputs": [
        {
          "name": "stderr",
          "output_type": "stream",
          "text": "Traceback (most recent call last):\n  File \"/lib/python3.12/site-packages/pyodide_kernel/kernel.py\", line 104, in run\n    code = await self.lite_transform_manager.transform_cell(code)\n           ^^^^^^^^^^^^^^^^^^^^^^^^^^^^^^^^^^^^^^^^^^^^^^^^^^^^^^\n  File \"/lib/python3.12/site-packages/pyodide_kernel/litetransform.py\", line 34, in transform_cell\n    lines = await self.do_token_transforms(lines)\n            ^^^^^^^^^^^^^^^^^^^^^^^^^^^^^^^^^^^^^\n  File \"/lib/python3.12/site-packages/pyodide_kernel/litetransform.py\", line 39, in do_token_transforms\n    changed, lines = await self.do_one_token_transform(lines)\n                     ^^^^^^^^^^^^^^^^^^^^^^^^^^^^^^^^^^^^^^^^\n  File \"/lib/python3.12/site-packages/pyodide_kernel/litetransform.py\", line 59, in do_one_token_transform\n    tokens_by_line = make_tokens_by_line(lines)\n                     ^^^^^^^^^^^^^^^^^^^^^^^^^^\n  File \"/lib/python3.12/site-packages/IPython/core/inputtransformer2.py\", line 535, in make_tokens_by_line\n    for token in tokenutil.generate_tokens_catch_errors(\n                 ^^^^^^^^^^^^^^^^^^^^^^^^^^^^^^^^^^^^^^^\n  File \"/lib/python3.12/site-packages/IPython/utils/tokenutil.py\", line 40, in generate_tokens_catch_errors\n    for token in tokenize.generate_tokens(readline):\n                 ^^^^^^^^^^^^^^^^^^^^^^^^^^^^^^^^^^\n  File \"/lib/python312.zip/tokenize.py\", line 580, in _generate_tokens_from_c_tokenizer\n    raise e from None\n  File \"/lib/python312.zip/tokenize.py\", line 576, in _generate_tokens_from_c_tokenizer\n    for info in it:\n                ^^\n  File \"<string>\", line 3\n    with open('example.txt', 'r') as file:\n                                          ^\nIndentationError: unindent does not match any outer indentation level\n\nIf you suspect this is an IPython 8.23.0 bug, please report it at:\n    https://github.com/ipython/ipython/issues\nor send an email to the mailing list at ipython-dev@python.org\n\nYou can print a more detailed traceback right now with \"%tb\", or use \"%debug\"\nto interactively debug it.\n\nExtra-detailed tracebacks for bug-reporting purposes can be enabled via:\n    %config Application.verbose_crash=True\n\n"
        }
      ],
      "execution_count": null
    },
    {
      "id": "d492feac-eed0-4c19-b3db-1b7fb9bde19e",
      "cell_type": "code",
      "source": "4.#Write a Python script that reads from one file and writes its content to another file?\ntry:\n    with open('source.txt', 'r') as source_file:\n        with open('destination.txt', 'w') as destination_file:\n            for line in source_file:\n                destination_file.write(line)\n    print(\"File copied successfully.\")\nexcept FileNotFoundError:\n    print(\"The source file does not exist.\")",
      "metadata": {
        "trusted": true
      },
      "outputs": [
        {
          "name": "stdout",
          "output_type": "stream",
          "text": "The source file does not exist.\n"
        }
      ],
      "execution_count": 18
    },
    {
      "id": "f68434d3-4e60-487d-80a9-62d97228c100",
      "cell_type": "code",
      "source": "5.#How would you catch and handle division by zero error in Python?\ntry:\n    numerator = 10\n    denominator = 0\n    result = numerator / denominator\n    print(\"Result:\", result)\nexcept ZeroDivisionError:\n    print(\"Error: Cannot divide by zero.\")",
      "metadata": {
        "trusted": true
      },
      "outputs": [
        {
          "name": "stdout",
          "output_type": "stream",
          "text": "Error: Cannot divide by zero.\n"
        }
      ],
      "execution_count": 20
    },
    {
      "id": "e9b5a604-5e55-43e8-ab03-44ccc4f7315b",
      "cell_type": "code",
      "source": "6.#Write a Python program that logs an error message to a log file when a division by zero exception occurs?\n    import logging\n\n# Configure logging to write to a file\nlogging.basicConfig(\n    filename='error_log.txt',\n    level=logging.ERROR,\n    format='%(asctime)s - %(levelname)s - %(message)s'\n)\n# Division operation with error handling\ntry:\n    numerator = 10\n    denominator = 0\n    result = numerator / denominator\n    print(\"Result:\", result)\n\nexcept ZeroDivisionError as e:\n    logging.error(\"Division by zero occurred: %s\", e)\n    print(\"An error occurred. Check the log file for details.\")",
      "metadata": {
        "trusted": true
      },
      "outputs": [],
      "execution_count": null
    },
    {
      "id": "45454351-6412-4945-8bfb-8b60a8f9db1d",
      "cell_type": "code",
      "source": "7.#How do you log information at different levels (INFO, ERROR, WARNING) in Python using the logging module?\nimport logging\n\n# Configure the logging system\nlogging.basicConfig(\n    filename='app.log',\n    level=logging.DEBUG,  # Set the minimum level to capture\n    format='%(asctime)s - %(levelname)s - %(message)s'\n)\n# Log messages at various severity levels\nlogging.debug(\"This is a DEBUG message (useful for diagnostics).\")\nlogging.info(\"This is an INFO message (general info).\")\nlogging.warning(\"This is a WARNING message (something unexpected happened).\")\nlogging.error(\"This is an ERROR message (a serious problem).\")\nlogging.critical(\"This is a CRITICAL message (program may not continue).\")",
      "metadata": {
        "trusted": true
      },
      "outputs": [],
      "execution_count": 23
    },
    {
      "id": "28f5a24f-85c2-460f-be76-d18dee5e694f",
      "cell_type": "code",
      "source": "8.#Write a program to handle a file opening error using exception handling?\n    # Program to handle file opening error\n\nfilename = 'non_existent_file.txt'\n\ntry:\n    with open(filename, 'r') as file:\n        content = file.read()\n        print(\"File content:\")\n        print(content)\n\nexcept FileNotFoundError:\n    print(f\"Error: The file '{filename}' was not found.\")\n\nexcept PermissionError:\n    print(f\"Error: Permission denied when trying to open '{filename}'.\")\n\nexcept Exception as e:\n    print(f\"An unexpected error occurred: {e}\")",
      "metadata": {
        "trusted": true
      },
      "outputs": [
        {
          "execution_count": 22,
          "output_type": "execute_result",
          "data": {
            "text/plain": "8.0"
          },
          "metadata": {}
        }
      ],
      "execution_count": 24
    },
    {
      "id": "151395c4-f726-452a-a461-2b2e1148cd0d",
      "cell_type": "code",
      "source": "9.#How can you read a file line by line and store its content in a list in Python?\nwith open('example.txt', 'r') as file:\n    lines = file.readlines()\n\n# Now 'lines' is a list of strings (each line from the file)\nprint(lines)",
      "metadata": {
        "trusted": true
      },
      "outputs": [
        {
          "name": "stdout",
          "output_type": "stream",
          "text": "['Hello, world!']\n"
        }
      ],
      "execution_count": 26
    },
    {
      "id": "c2b19073-ddce-48fc-8cb0-d3243c1e75bc",
      "cell_type": "code",
      "source": "10.# How can you append data to an existing file in Python?\n    # Open file in append mode\nwith open('example.txt', 'a') as file:\n    file.write('This is a new line.\\n')",
      "metadata": {
        "trusted": true
      },
      "outputs": [],
      "execution_count": 28
    },
    {
      "id": "ae179768-b46e-438e-97fa-c30b2bdffb11",
      "cell_type": "code",
      "source": "11.# Write a Python program that uses a try-except block to handle an error when attempting to access a\n# dictionary key that doesn't exist?\nmy_dict = {'name': 'Alice', 'age': 25}\n\ntry:\n    # Attempt to access a key that may not exist\n    value = my_dict['address']\n    print(\"Address:\", value)\n\nexcept KeyError:\n    print(\"Error: The key 'address' does not exist in the dictionary.\")",
      "metadata": {
        "trusted": true
      },
      "outputs": [
        {
          "name": "stdout",
          "output_type": "stream",
          "text": "Error: The key 'address' does not exist in the dictionary.\n"
        }
      ],
      "execution_count": 29
    },
    {
      "id": "d81c75eb-e4ed-46e8-bed3-7e21f7e27d26",
      "cell_type": "code",
      "source": "12.#Write a program that demonstrates using multiple except blocks to handle different types of exceptions?\ntry:\n    # Example code that can raise multiple exceptions\n    x = int(input(\"Enter a number: \"))\n    y = int(input(\"Enter another number: \"))\n    result = x / y\n    print(f\"Result of {x} divided by {y} is {result}\")\n\nexcept ValueError:\n    print(\"Error: Please enter valid integers.\")\n\nexcept ZeroDivisionError:\n    print(\"Error: Division by zero is not allowed.\")\n\nexcept Exception as e:\n    print(f\"An unexpected error occurred: {e}\")",
      "metadata": {
        "trusted": true
      },
      "outputs": [
        {
          "output_type": "stream",
          "name": "stdin",
          "text": "Enter a number:  2\nEnter another number:  3\n"
        },
        {
          "name": "stdout",
          "output_type": "stream",
          "text": "Result of 2 divided by 3 is 0.6666666666666666\n"
        }
      ],
      "execution_count": 31
    },
    {
      "id": "3edfaf0b-cbc0-4e7a-b302-860104fca59d",
      "cell_type": "code",
      "source": "13.#How would you check if a file exists before attempting to read it in Python?\nimport os\n\nfilename = 'example.txt'\n\nif os.path.exists(filename):\n    with open(filename, 'r') as file:\n        content = file.read()\n        print(content)\nelse:\n    print(f\"The file '{filename}' does not exist.\")",
      "metadata": {
        "trusted": true
      },
      "outputs": [
        {
          "name": "stdout",
          "output_type": "stream",
          "text": "Hello, world!This is a new line.\nThis is a new line.\n\n"
        }
      ],
      "execution_count": 34
    },
    {
      "id": "e8d19933-5f95-4c27-af48-1f147e1e02a5",
      "cell_type": "code",
      "source": " 14.#Write a program that uses the logging module to log both informational and error messages?\nimport logging\n\n# Configure logging: write messages to 'app.log'\nlogging.basicConfig(\n    filename='app.log',\n    level=logging.DEBUG,  # Log all levels DEBUG and above\n    format='%(asctime)s - %(levelname)s - %(message)s'\n)\n\n# Log an informational message\nlogging.info(\"This is an informational message.\")\n\ntry:\n    # Simulate a potential error\n    result = 10 / 0\nexcept ZeroDivisionError as e:\n    # Log the error message\n    logging.error(f\"An error occurred: {e}\")\n\nprint(\"Logging complete. Check 'app.log' for details.\")",
      "metadata": {
        "trusted": true
      },
      "outputs": [
        {
          "name": "stdout",
          "output_type": "stream",
          "text": "Logging complete. Check 'app.log' for details.\n"
        }
      ],
      "execution_count": 36
    },
    {
      "id": "4771ae44-17a1-41b5-a7fd-3fae223c7e0c",
      "cell_type": "code",
      "source": "15.#Write a Python program that prints the content of a file and handles the case when the file is empty?\nfilename = 'example.txt'\n\ntry:\n    with open(filename, 'r') as file:\n        content = file.read()\n        if content:\n            print(\"File content:\")\n            print(content)\n        else:\n            print(f\"The file '{filename}' is empty.\")\nexcept FileNotFoundError:\n    print(f\"The file '{filename}' does not exist.\")\nexcept Exception as e:\n    print(f\"An error occurred: {e}\")",
      "metadata": {
        "trusted": true
      },
      "outputs": [
        {
          "name": "stdout",
          "output_type": "stream",
          "text": "File content:\nHello, world!This is a new line.\nThis is a new line.\n\n"
        }
      ],
      "execution_count": 38
    },
    {
      "id": "9b678925-6f7a-43b3-a3c3-f2cee9074ecd",
      "cell_type": "code",
      "source": "16.#Demonstrate how to use memory profiling to check the memory usage of a small program?\nfrom memory_profiler import profile\n\n@profile\ndef my_func():\n    a = [i for i in range(100000)]  # allocate memory\n    b = [i * 2 for i in range(100000)]\n    del a\n    return b\n\nif __name__ == \"__main__\":\n    my_func()",
      "metadata": {
        "trusted": true
      },
      "outputs": [
        {
          "ename": "<class 'ModuleNotFoundError'>",
          "evalue": "No module named 'memory_profiler'",
          "traceback": [
            "\u001b[0;31m---------------------------------------------------------------------------\u001b[0m",
            "\u001b[0;31mModuleNotFoundError\u001b[0m                       Traceback (most recent call last)",
            "Cell \u001b[0;32mIn[38], line 2\u001b[0m\n\u001b[1;32m      1\u001b[0m \u001b[38;5;241m16.\u001b[39m\u001b[38;5;66;03m#Demonstrate how to use memory profiling to check the memory usage of a small program?\u001b[39;00m\n\u001b[0;32m----> 2\u001b[0m \u001b[38;5;28;01mfrom\u001b[39;00m \u001b[38;5;21;01mmemory_profiler\u001b[39;00m \u001b[38;5;28;01mimport\u001b[39;00m profile\n\u001b[1;32m      4\u001b[0m \u001b[38;5;129m@profile\u001b[39m\n\u001b[1;32m      5\u001b[0m \u001b[38;5;28;01mdef\u001b[39;00m \u001b[38;5;21mmy_func\u001b[39m():\n\u001b[1;32m      6\u001b[0m     a \u001b[38;5;241m=\u001b[39m [i \u001b[38;5;28;01mfor\u001b[39;00m i \u001b[38;5;129;01min\u001b[39;00m \u001b[38;5;28mrange\u001b[39m(\u001b[38;5;241m100000\u001b[39m)]  \u001b[38;5;66;03m# allocate memory\u001b[39;00m\n",
            "\u001b[0;31mModuleNotFoundError\u001b[0m: No module named 'memory_profiler'"
          ],
          "output_type": "error"
        }
      ],
      "execution_count": 40
    },
    {
      "id": "b67f16bc-079c-4b5d-8d94-9ad6d391e870",
      "cell_type": "code",
      "source": "17.# Write a Python program to create and write a list of numbers to a file, one number per line?\nnumbers = [1, 2, 3, 4, 5, 6, 7, 8, 9, 10]\n\nwith open('numbers.txt', 'w') as file:\n    for number in numbers:\n        file.write(f\"{number}\\n\")\n\nprint(\"Numbers have been written to 'numbers.txt'.\")",
      "metadata": {
        "trusted": true
      },
      "outputs": [
        {
          "name": "stdout",
          "output_type": "stream",
          "text": "Numbers have been written to 'numbers.txt'.\n"
        }
      ],
      "execution_count": 41
    },
    {
      "id": "fc6e1e92-be73-4ea4-bb27-4e2e88429fba",
      "cell_type": "code",
      "source": "18.#How would you implement a basic logging setup that logs to a file with rotation after 1MB?\n    # Create a logger\nlogger = logging.getLogger('my_logger')\nlogger.setLevel(logging.DEBUG)  # Log all levels DEBUG and above\n\n# Create a rotating file handler\nhandler = RotatingFileHandler(\n    'app.log',           # Log file name\n    maxBytes=1 * 1024 * 1024,  # 1MB\n    backupCount=3        # Keep up to 3 backup files\n)\n\n# Create a formatter and set it for the handler\nformatter = logging.Formatter('%(asctime)s - %(levelname)s - %(message)s')\nhandler.setFormatter(formatter)\n\n# Add the handler to the logger\nlogger.addHandler(handler)\n\n# Example log messages\nlogger.info(\"This is an info message.\")\nlogger.error(\"This is an error message.\")\n",
      "metadata": {
        "trusted": true
      },
      "outputs": [
        {
          "ename": "<class 'NameError'>",
          "evalue": "name 'RotatingFileHandler' is not defined",
          "traceback": [
            "\u001b[0;31m---------------------------------------------------------------------------\u001b[0m",
            "\u001b[0;31mNameError\u001b[0m                                 Traceback (most recent call last)",
            "Cell \u001b[0;32mIn[40], line 7\u001b[0m\n\u001b[1;32m      4\u001b[0m logger\u001b[38;5;241m.\u001b[39msetLevel(logging\u001b[38;5;241m.\u001b[39mDEBUG)  \u001b[38;5;66;03m# Log all levels DEBUG and above\u001b[39;00m\n\u001b[1;32m      6\u001b[0m \u001b[38;5;66;03m# Create a rotating file handler\u001b[39;00m\n\u001b[0;32m----> 7\u001b[0m handler \u001b[38;5;241m=\u001b[39m \u001b[43mRotatingFileHandler\u001b[49m(\n\u001b[1;32m      8\u001b[0m     \u001b[38;5;124m'\u001b[39m\u001b[38;5;124mapp.log\u001b[39m\u001b[38;5;124m'\u001b[39m,           \u001b[38;5;66;03m# Log file name\u001b[39;00m\n\u001b[1;32m      9\u001b[0m     maxBytes\u001b[38;5;241m=\u001b[39m\u001b[38;5;241m1\u001b[39m \u001b[38;5;241m*\u001b[39m \u001b[38;5;241m1024\u001b[39m \u001b[38;5;241m*\u001b[39m \u001b[38;5;241m1024\u001b[39m,  \u001b[38;5;66;03m# 1MB\u001b[39;00m\n\u001b[1;32m     10\u001b[0m     backupCount\u001b[38;5;241m=\u001b[39m\u001b[38;5;241m3\u001b[39m        \u001b[38;5;66;03m# Keep up to 3 backup files\u001b[39;00m\n\u001b[1;32m     11\u001b[0m )\n\u001b[1;32m     13\u001b[0m \u001b[38;5;66;03m# Create a formatter and set it for the handler\u001b[39;00m\n\u001b[1;32m     14\u001b[0m formatter \u001b[38;5;241m=\u001b[39m logging\u001b[38;5;241m.\u001b[39mFormatter(\u001b[38;5;124m'\u001b[39m\u001b[38;5;132;01m%(asctime)s\u001b[39;00m\u001b[38;5;124m - \u001b[39m\u001b[38;5;132;01m%(levelname)s\u001b[39;00m\u001b[38;5;124m - \u001b[39m\u001b[38;5;132;01m%(message)s\u001b[39;00m\u001b[38;5;124m'\u001b[39m)\n",
            "\u001b[0;31mNameError\u001b[0m: name 'RotatingFileHandler' is not defined"
          ],
          "output_type": "error"
        }
      ],
      "execution_count": 42
    },
    {
      "id": "856369b7-47e0-4d6d-a5b2-56eb552d1485",
      "cell_type": "code",
      "source": "19.#Write a program that handles both IndexError and KeyError using a try-except block?\nmy_list = [10, 20, 30]\nmy_dict = {'a': 1, 'b': 2}\n\ntry:\n    # Accessing an invalid index\n    print(my_list[5])\n    \n    # Accessing a non-existent key\n    print(my_dict['z'])\n\nexcept IndexError:\n    print(\"Error: List index is out of range.\")\n\nexcept KeyError:\n    print(\"Error: Key does not exist in the dictionary.\")",
      "metadata": {
        "trusted": true
      },
      "outputs": [
        {
          "name": "stdout",
          "output_type": "stream",
          "text": "Error: List index is out of range.\n"
        }
      ],
      "execution_count": 44
    },
    {
      "id": "c0525ff4-6fcd-4458-8dd1-cdf6921445d2",
      "cell_type": "code",
      "source": "20.#How would you open a file and read its contents using a context manager in Python?\nwith open('example.txt', 'r') as file:\n    content = file.read()\n\nprint(content)",
      "metadata": {
        "trusted": true
      },
      "outputs": [
        {
          "name": "stdout",
          "output_type": "stream",
          "text": "Hello, world!This is a new line.\nThis is a new line.\n\n"
        }
      ],
      "execution_count": 46
    },
    {
      "id": "7f3d00c1-e517-4425-a5e9-f918475d729a",
      "cell_type": "code",
      "source": "21.#Write a Python program that reads a file and prints the number of occurrences of a specific wordF?\nfilename = 'example.txt'\nword_to_count = 'Python'  # Change this to the word you want to count\n\ntry:\n    with open(filename, 'r') as file:\n        content = file.read()\n\n    # Convert content and word to lowercase for case-insensitive counting\n    content_lower = content.lower()\n    word_lower = word_to_count.lower()\n\n    # Count occurrences\n    count = content_lower.count(word_lower)\n\n    print(f\"The word '{word_to_count}' occurs {count} times in the file '{filename}'.\")\n\nexcept FileNotFoundError:\n    print(f\"The file '{filename}' does not exist.\")\nexcept Exception as e:\n    print(f\"An error occurred: {e}\")",
      "metadata": {
        "trusted": true
      },
      "outputs": [
        {
          "name": "stdout",
          "output_type": "stream",
          "text": "The word 'Python' occurs 0 times in the file 'example.txt'.\n"
        }
      ],
      "execution_count": 47
    },
    {
      "id": "6621bfd5-1947-4699-adc8-8d7634d6a25c",
      "cell_type": "code",
      "source": "22.#How can you check if a file is empty before attempting to read its contents?\nimport os\n\nfilename = 'example.txt'\n\nif os.path.getsize(filename) > 0:\n    with open(filename, 'r') as file:\n        content = file.read()\n        print(content)\nelse:\n    print(f\"The file '{filename}' is empty.\")",
      "metadata": {
        "trusted": true
      },
      "outputs": [
        {
          "name": "stdout",
          "output_type": "stream",
          "text": "Hello, world!This is a new line.\nThis is a new line.\n\n"
        }
      ],
      "execution_count": 49
    },
    {
      "id": "17deb359-086b-4fa9-963e-4bc2eca5a1f3",
      "cell_type": "code",
      "source": "23.#Write a Python program that writes to a log file when an error occurs during file handling.?\nimport logging\n\n# Configure logging to write errors to 'file_errors.log'\nlogging.basicConfig(\n    filename='file_errors.log',\n    level=logging.ERROR,\n    format='%(asctime)s - %(levelname)s - %(message)s'\n)\n\nfilename = 'example.txt'\n\ntry:\n    with open(filename, 'r') as file:\n        content = file.read()\n        print(content)\nexcept Exception as e:\n    logging.error(f\"Error occurred while handling the file '{filename}': {e}\")\n    print(\"An error occurred. Please check the log file for details.\")",
      "metadata": {
        "trusted": true
      },
      "outputs": [
        {
          "name": "stdout",
          "output_type": "stream",
          "text": "Hello, world!This is a new line.\nThis is a new line.\n\n"
        }
      ],
      "execution_count": 50
    },
    {
      "id": "050f9a82-ed1e-4ba3-8439-51a72c7bb582",
      "cell_type": "code",
      "source": "",
      "metadata": {
        "trusted": true
      },
      "outputs": [],
      "execution_count": null
    }
  ]
}